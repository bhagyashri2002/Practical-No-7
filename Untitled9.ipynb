{
  "nbformat": 4,
  "nbformat_minor": 0,
  "metadata": {
    "colab": {
      "name": "Untitled9.ipynb",
      "provenance": []
    },
    "kernelspec": {
      "name": "python3",
      "display_name": "Python 3"
    },
    "language_info": {
      "name": "python"
    }
  },
  "cells": [
    {
      "cell_type": "markdown",
      "source": [
        "Practical No:7\n",
        "Practical Name:Write a Program To Demonstrate Working With Dictonaries In Python."
      ],
      "metadata": {
        "id": "HaRswHhxKRXI"
      }
    },
    {
      "cell_type": "code",
      "execution_count": 1,
      "metadata": {
        "colab": {
          "base_uri": "https://localhost:8080/"
        },
        "id": "gH9W2wN6KG_X",
        "outputId": "47639de0-4fbd-4695-c581-a1ddae78aa08"
      },
      "outputs": [
        {
          "output_type": "stream",
          "name": "stdout",
          "text": [
            "\n",
            " Dictionary is : {'StdNo': '532', 'StuName': 'Bhagyashri', 'StuAge': 19, 'StuCity': 'Shingave'}\n",
            "\n",
            " Student Name is : Bhagyashri\n",
            "\n",
            " Student City is : Shingave\n",
            "\n",
            " All Keys in Dictionary \n",
            "StdNo\n",
            "StuName\n",
            "StuAge\n",
            "StuCity\n",
            "\n",
            " All Values in Dictionary \n",
            "532\n",
            "Bhagyashri\n",
            "19\n",
            "Shingave\n",
            "\n",
            " Uadated Dictionary is : {'StdNo': '532', 'StuName': 'Bhagyashri', 'StuAge': 19, 'StuCity': 'Shingave', 'Phno': 85457854}\n",
            "\n",
            " Uadated Dictionary is : {'StdNo': '532', 'StuName': 'Madhu', 'StuAge': 19, 'StuCity': 'Shingave', 'Phno': 85457854}\n",
            "\n",
            " Uadated Dictionary is : {'StdNo': '532', 'StuName': 'Madhu', 'StuCity': 'Shingave', 'Phno': 85457854}\n",
            "Length of Dictionary is : 4\n",
            "\n",
            " New Dictionary is : {'StdNo': '532', 'StuName': 'Madhu', 'StuCity': 'Shingave', 'Phno': 85457854}\n",
            "\n",
            " Uadated Dictionary is : {}\n"
          ]
        }
      ],
      "source": [
        "dict1 = {'StdNo':'532','StuName': 'Bhagyashri', 'StuAge': 19, 'StuCity': 'Shingave'}\n",
        "print(\"\\n Dictionary is :\",dict1)\n",
        "#Accessing specific values \n",
        "print(\"\\n Student Name is :\",dict1['StuName'])\n",
        "print(\"\\n Student City is :\",dict1['StuCity'])\n",
        "#Display all Keys\n",
        "print(\"\\n All Keys in Dictionary \")\n",
        "for x in dict1:\n",
        "    print(x)\n",
        "#Display all values\n",
        "print(\"\\n All Values in Dictionary \")\n",
        "for x in dict1:\n",
        "    print(dict1[x])\n",
        "#Adding items\n",
        "dict1[\"Phno\"]=85457854\n",
        "#Updated dictoinary\n",
        "print(\"\\n Uadated Dictionary is :\",dict1)\n",
        "#Change values\n",
        "dict1[\"StuName\"]=\"Madhu\"\n",
        "#Updated dictoinary\n",
        "print(\"\\n Uadated Dictionary is :\",dict1)\n",
        "#Removing Items\n",
        "dict1.pop(\"StuAge\");\n",
        "#Updated dictoinary\n",
        "print(\"\\n Uadated Dictionary is :\",dict1)\n",
        "#Length of Dictionary\n",
        "print(\"Length of Dictionary is :\",len(dict1))\n",
        "#Copy a Dictionary\n",
        "dict2=dict1.copy()\n",
        "#New dictoinary\n",
        "print(\"\\n New Dictionary is :\",dict2)\n",
        "#empties the dictionary\n",
        "dict1.clear()\n",
        "print(\"\\n Uadated Dictionary is :\",dict1)"
      ]
    }
  ]
}